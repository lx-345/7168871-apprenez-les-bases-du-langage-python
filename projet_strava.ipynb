{
  "nbformat": 4,
  "nbformat_minor": 0,
  "metadata": {
    "colab": {
      "provenance": [],
      "authorship_tag": "ABX9TyPfb1AGw8Ed9bfPlABMxLSp",
      "include_colab_link": true
    },
    "kernelspec": {
      "name": "python3",
      "display_name": "Python 3"
    },
    "language_info": {
      "name": "python"
    }
  },
  "cells": [
    {
      "cell_type": "markdown",
      "metadata": {
        "id": "view-in-github",
        "colab_type": "text"
      },
      "source": [
        "<a href=\"https://colab.research.google.com/github/lx-345/7168871-apprenez-les-bases-du-langage-python/blob/main/projet_strava.ipynb\" target=\"_parent\"><img src=\"https://colab.research.google.com/assets/colab-badge.svg\" alt=\"Open In Colab\"/></a>"
      ]
    },
    {
      "cell_type": "code",
      "source": [
        "demandes d'importation\n",
        "importer urllib3\n",
        "importer des pandas en tant que PD\n",
        "urllib3.disable_warnings(urllib3.exceptions.InsecureRequestWarning)\n",
        "\n",
        "auth_url = \"https://www.strava.com/oauth/token\"\n",
        "\n",
        "# Vous devez mettre à jour ces informations depuis votre compte Strava avant de pouvoir exécuter le reste de ce code\n",
        "# Voir le didacticiel vidéo ici pour savoir comment : https://www.youtube.com/watch?v=sgscChKfGyg&list=PLO6KswO64zVvcRyk0G0MAzh5oKMLb6rTW\n",
        "\n",
        "charge utile = {\n",
        "    'id_client' : \"XXXXX\",\n",
        "    'client_secret' : '11111aaayyy',\n",
        "    'refresh_token' : '22222zzzzzz',\n",
        "    'grant_type' : \"refresh_token\",\n",
        "    'f' : 'json'\n",
        "}\n",
        "\n",
        "print(\"Demande de jeton...\\n\")\n",
        "res = request.post (auth_url, data = payload, verify = False)\n",
        "access_token = res.json()['access_token']\n",
        "print(\"Jeton d'accès = {}\\n\".format(access_token))\n",
        "\n",
        "# Nous devons maintenant importer une liste d'activités et quelques statistiques de haut niveau à leur sujet.\n",
        "# Ce sera 1 ligne par activité.\n",
        "\n",
        "# Initialiser le dataframe\n",
        "col_names = ['id', 'type', 'name', 'distance', 'moving_time', 'elapsed_time', 'total_elevation_gain', 'start_date', 'start_latlng', 'kilojoules', 'average_heartrate', 'max_heartrate' , 'elev_high', 'elev_low', 'average_speed', 'max_speed']\n",
        "activités = pd.DataFrame(columns=col_names)\n",
        "\n",
        "activites_url = \"https://www.strava.com/api/v3/athlete/activities\"\n",
        "header = {'Autorisation' : 'Bearer' + access_token}\n",
        "\n",
        "page = 1\n",
        "par_page = 50\n",
        "\n",
        "tandis que Vrai :\n",
        "\n",
        "    # obtenir la page des activités de Strava\n",
        "    param = {'par_page' : par_page, 'page' : page}\n",
        "    r = request.get(activites_url, headers=header, params=param).json()\n",
        "\n",
        "    # si aucun résultat, quittez la boucle\n",
        "    si (pas r) :\n",
        "        casser\n",
        "\n",
        "    # sinon, ajoutez de nouvelles données au dataframe\n",
        "    pour x dans la plage (len (r)):\n",
        "      pour c dans col_names :\n",
        "        essayer:\n",
        "          activités.loc[x + (page-1)*50, c] = r[x][c]\n",
        "        sauf:\n",
        "          activités.loc[x + (page-1)*50, c] = 'null'\n",
        "\n",
        "    # page d'incrémentation\n",
        "    page += 1\n",
        "\n",
        "print(\"Activités importées\")\n",
        "imprimer(activités)\n",
        "\n",
        "activités.to_csv('activités.csv')"
      ],
      "metadata": {
        "id": "oxf-qyiyb7CK"
      },
      "execution_count": null,
      "outputs": []
    }
  ]
}